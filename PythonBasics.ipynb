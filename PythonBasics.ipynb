{
 "cells": [
  {
   "attachments": {},
   "cell_type": "markdown",
   "metadata": {},
   "source": [
    "## DAY 1"
   ]
  },
  {
   "cell_type": "code",
   "execution_count": 2,
   "metadata": {},
   "outputs": [
    {
     "name": "stdout",
     "output_type": "stream",
     "text": [
      "Helllooooooo\n"
     ]
    }
   ],
   "source": [
    "print(\"Helllooooooo\")"
   ]
  },
  {
   "cell_type": "code",
   "execution_count": 3,
   "metadata": {},
   "outputs": [
    {
     "name": "stdout",
     "output_type": "stream",
     "text": [
      "15\n"
     ]
    }
   ],
   "source": [
    "a = 1+14\n",
    "print(a)"
   ]
  },
  {
   "cell_type": "code",
   "execution_count": 3,
   "metadata": {},
   "outputs": [
    {
     "name": "stdout",
     "output_type": "stream",
     "text": [
      "You are not allowed to vote\n"
     ]
    }
   ],
   "source": [
    "age  = int(input(\"Enter your age : \"))\n",
    "if(age>=18):\n",
    "    print(\"You are allowed to vote.\")\n",
    "else:\n",
    "    print(\"You are not allowed to vote\")"
   ]
  },
  {
   "cell_type": "code",
   "execution_count": 4,
   "metadata": {},
   "outputs": [],
   "source": [
    "a  = '''This is a \n",
    "        multiline string'''"
   ]
  },
  {
   "cell_type": "code",
   "execution_count": 5,
   "metadata": {},
   "outputs": [
    {
     "name": "stdout",
     "output_type": "stream",
     "text": [
      "This is a \n",
      "        multiline string\n"
     ]
    }
   ],
   "source": [
    "print(a)"
   ]
  },
  {
   "cell_type": "code",
   "execution_count": 6,
   "metadata": {},
   "outputs": [
    {
     "name": "stdout",
     "output_type": "stream",
     "text": [
      "<class 'str'>\n"
     ]
    }
   ],
   "source": [
    "print(type(a))"
   ]
  },
  {
   "cell_type": "code",
   "execution_count": 10,
   "metadata": {},
   "outputs": [
    {
     "name": "stdout",
     "output_type": "stream",
     "text": [
      "1\n"
     ]
    }
   ],
   "source": [
    "str = 'Alphabet'\n",
    "print(str.count('a'))"
   ]
  },
  {
   "cell_type": "code",
   "execution_count": 12,
   "metadata": {},
   "outputs": [
    {
     "name": "stdout",
     "output_type": "stream",
     "text": [
      "alphabet\n"
     ]
    }
   ],
   "source": [
    "print(str.lower())"
   ]
  },
  {
   "cell_type": "code",
   "execution_count": 13,
   "metadata": {},
   "outputs": [
    {
     "name": "stdout",
     "output_type": "stream",
     "text": [
      "ALPHABET\n"
     ]
    }
   ],
   "source": [
    "print(str.upper())"
   ]
  },
  {
   "cell_type": "code",
   "execution_count": 14,
   "metadata": {},
   "outputs": [
    {
     "name": "stdout",
     "output_type": "stream",
     "text": [
      "Alphabet\n"
     ]
    }
   ],
   "source": [
    "print(str.capitalize())"
   ]
  },
  {
   "cell_type": "code",
   "execution_count": 16,
   "metadata": {},
   "outputs": [
    {
     "name": "stdout",
     "output_type": "stream",
     "text": [
      "Hi I Am Yash\n"
     ]
    }
   ],
   "source": [
    "s = \"hi i am yash\"\n",
    "print(s.title())"
   ]
  },
  {
   "cell_type": "code",
   "execution_count": 32,
   "metadata": {},
   "outputs": [
    {
     "name": "stdout",
     "output_type": "stream",
     "text": [
      "Yash you are eligible to vote.\n"
     ]
    }
   ],
   "source": [
    "name = input(\"Enter your name\")\n",
    "age  = input(\"Enter your age : \")\n",
    "\n",
    "if(age.isdigit()):\n",
    "    age = int(age)\n",
    "    if(age>0):\n",
    "        if(age>=18):\n",
    "            print(f'{name} you are eligible to vote.')\n",
    "        else:\n",
    "            print(f'{name} you are not eligible to vote.')\n",
    "    else:\n",
    "        print(\"Age cannot be negative\")\n",
    "\n",
    "else:\n",
    "    print(\"Enter only numbers.\")"
   ]
  },
  {
   "cell_type": "code",
   "execution_count": 34,
   "metadata": {},
   "outputs": [
    {
     "name": "stdout",
     "output_type": "stream",
     "text": [
      "Python\n"
     ]
    }
   ],
   "source": [
    "string  = \"I am learning Python\"\n",
    "print(string[14:])"
   ]
  },
  {
   "cell_type": "code",
   "execution_count": 36,
   "metadata": {},
   "outputs": [
    {
     "name": "stdout",
     "output_type": "stream",
     "text": [
      "yash yadwadkar\n",
      "pccoer\n"
     ]
    }
   ],
   "source": [
    "gmail = input()\n",
    "g = gmail.split('@')\n",
    "print(g[0].replace('.',' '))\n",
    "c = g[1].split('.')\n",
    "print(c[0])\n",
    "\n"
   ]
  },
  {
   "cell_type": "code",
   "execution_count": 40,
   "metadata": {},
   "outputs": [
    {
     "name": "stdout",
     "output_type": "stream",
     "text": [
      "21.666666666666668\n"
     ]
    }
   ],
   "source": [
    "def fartocel(t):#Parameter : Used when creating a function\n",
    "    return (t-32)*(5/9)\n",
    "\n",
    "temp = float(input(\"Enter the temperature in Farenheit : \"))\n",
    "print(fartocel(temp))#Argument : Used when calling function\n",
    "    "
   ]
  },
  {
   "cell_type": "code",
   "execution_count": 41,
   "metadata": {},
   "outputs": [
    {
     "name": "stdout",
     "output_type": "stream",
     "text": [
      "[21.666666666666668, 22.22222222222222, 22.77777777777778, 23.333333333333336]\n"
     ]
    }
   ],
   "source": [
    "l = [71,72,73,74]\n",
    "for i in range(len(l)):\n",
    "    l[i] = fartocel(l[i])\n",
    "print(l)"
   ]
  },
  {
   "attachments": {},
   "cell_type": "markdown",
   "metadata": {},
   "source": [
    "## Lamda Function"
   ]
  },
  {
   "cell_type": "code",
   "execution_count": 42,
   "metadata": {},
   "outputs": [
    {
     "name": "stdout",
     "output_type": "stream",
     "text": [
      "21.666666666666668\n"
     ]
    }
   ],
   "source": [
    "far2cel = lambda n : (n-32)*(5/9)\n",
    "print(far2cel(71))"
   ]
  },
  {
   "cell_type": "code",
   "execution_count": 46,
   "metadata": {},
   "outputs": [
    {
     "name": "stdout",
     "output_type": "stream",
     "text": [
      "[21.666666666666668, 22.22222222222222, 22.77777777777778, 23.333333333333336]\n"
     ]
    }
   ],
   "source": [
    "l = [71,72,73,74]\n",
    "print(list(map(lambda n : (n-32)*(5/9),l)))"
   ]
  },
  {
   "cell_type": "code",
   "execution_count": 54,
   "metadata": {},
   "outputs": [
    {
     "name": "stdout",
     "output_type": "stream",
     "text": [
      "9\n"
     ]
    }
   ],
   "source": [
    "#ROMAN TO DECIMAL\n",
    "\n",
    "roman_num = input(\"Enter the roman number\")\n",
    "roman = {'I' : 1,'V' : 5, 'X' : 10}\n",
    "def convert(R):\n",
    "    final = 0\n",
    "    for i in R:\n",
    "        d = roman[i]\n",
    "        if final < d:\n",
    "            final = d - final\n",
    "        else:\n",
    "            final = final + d\n",
    "    return final\n",
    "\n",
    "print(convert(roman_num))\n",
    "            "
   ]
  },
  {
   "attachments": {},
   "cell_type": "markdown",
   "metadata": {},
   "source": [
    "## Day 2"
   ]
  },
  {
   "cell_type": "code",
   "execution_count": null,
   "metadata": {},
   "outputs": [],
   "source": [
    "#BMI CALCULATOR\n",
    "\n",
    "h = float(input(\"Enter your height(in m) : \"))\n",
    "w = float(input(\"Enter your weight(in kg) : \"))\n",
    "\n",
    "def bmi_cal():\n",
    "    bmi = w/(h**2)\n",
    "\n",
    "    if(bmi<18.5):\n",
    "        print(\"Under weight\")\n",
    "    elif(bmi>=18.5 and bmi<=24.9):\n",
    "        print(\"Normal\")\n",
    "    elif(bmi>=25 and bmi<=29.9):\n",
    "        print(\"Over weight\")\n",
    "    else:\n",
    "        print(\"Obese\")\n",
    "    \n",
    "bmi_cal()\n"
   ]
  },
  {
   "cell_type": "code",
   "execution_count": null,
   "metadata": {},
   "outputs": [],
   "source": [
    "h = float(input(\"Enter your height(in m) : \"))\n",
    "w = float(input(\"Enter your weight(in kg) : \"))\n",
    "\n",
    "bmi = lambda h,w : f\"Under Weight\" if(w/(h**2)<18.5) else (f\"Normal\" if((w/(h**2)>=25 and (w/(h**2)<=29.9)) ))"
   ]
  },
  {
   "cell_type": "code",
   "execution_count": 69,
   "metadata": {},
   "outputs": [
    {
     "name": "stdout",
     "output_type": "stream",
     "text": [
      "6\n"
     ]
    }
   ],
   "source": [
    "#Vowel count\n",
    "\n",
    "v = 'aeiou'\n",
    "str  = 'I am learning python'\n",
    "\n",
    "def count_vow(s):\n",
    "    s = s.lower()\n",
    "    count = 0\n",
    "    i = 0\n",
    "    while(i<len(s)):\n",
    "        if s[i] in v:\n",
    "            count+=1\n",
    "        i+=1\n",
    "        \n",
    "    return count\n",
    "    \n",
    "print(count_vow(str))"
   ]
  },
  {
   "cell_type": "code",
   "execution_count": 77,
   "metadata": {},
   "outputs": [
    {
     "name": "stdout",
     "output_type": "stream",
     "text": [
      "Verified\n"
     ]
    }
   ],
   "source": [
    "#VERIFICATION BOT\n",
    "\n",
    "name = ['Yash','Dhiraj','Kshitij','Kunal','Ayush','Atharva','Aditya','Sahil']\n",
    "\n",
    "def add_name():\n",
    "    nm = input(\"Enter your name : \")\n",
    "    nm = nm.strip().title()\n",
    "    name.append(nm)\n",
    "    \n",
    "def verify():\n",
    "    nm = input(\"Enter your name : \")\n",
    "    nm = nm.strip().title()\n",
    "    if nm in name:\n",
    "        print(\"Verified\")\n",
    "    else:\n",
    "        ans = input(\"Do you want to add the name in list(y/n) : \")\n",
    "        if(ans  == 'y' or ans == 'Y'):\n",
    "            add_name()\n",
    "        else:\n",
    "            print(\"Go Home\")\n",
    "            \n",
    "def main():\n",
    "    while(True):\n",
    "        verify()\n",
    "        ch = input(\"Do you want to continue(Y/N) : \")\n",
    "        if(ch == 'n' or ch == 'N'):\n",
    "            break\n",
    "        \n",
    "main()"
   ]
  },
  {
   "cell_type": "code",
   "execution_count": 87,
   "metadata": {},
   "outputs": [
    {
     "name": "stdout",
     "output_type": "stream",
     "text": [
      "[1, 3, 5, 7, 9, 11, 33, 65, 23, 45]\n"
     ]
    }
   ],
   "source": [
    "l = [1,2,3,4,5,6,7,8,9,11,33,65,23,45,34,64]\n",
    "\n",
    "odd = list(filter(lambda n : n%2 != 0,l))\n",
    "\n",
    "print(odd)"
   ]
  },
  {
   "cell_type": "code",
   "execution_count": 82,
   "metadata": {},
   "outputs": [],
   "source": [
    "#Ternary operator in python :\n",
    "#n if (n: n%2 != 0) else none "
   ]
  },
  {
   "cell_type": "code",
   "execution_count": 86,
   "metadata": {},
   "outputs": [
    {
     "name": "stdout",
     "output_type": "stream",
     "text": [
      "1 3 5 7 9 11 33 65 23 45 "
     ]
    }
   ],
   "source": [
    "l = [1,2,3,4,5,6,7,8,9,11,33,65,23,45,34,64]\n",
    "getodd = lambda n : n if (n%2 != 0) else None\n",
    "for i in l:\n",
    "    r = getodd(i)\n",
    "    if r is None:\n",
    "        continue\n",
    "    print(r, end =' ')"
   ]
  },
  {
   "cell_type": "code",
   "execution_count": 88,
   "metadata": {},
   "outputs": [
    {
     "name": "stdout",
     "output_type": "stream",
     "text": [
      "[1, 3, 5, 7, 9, 11, 33, 65, 23, 45]\n"
     ]
    }
   ],
   "source": [
    "l = [1,2,3,4,5,6,7,8,9,11,33,65,23,45,34,64]\n",
    "\n",
    "odd = list(filter(lambda n : n%2 != 0,l))\n",
    "\n",
    "print(odd)"
   ]
  },
  {
   "cell_type": "code",
   "execution_count": 90,
   "metadata": {},
   "outputs": [
    {
     "name": "stdout",
     "output_type": "stream",
     "text": [
      "1 8 27 64 125 216 343 512 729 1331 35937 274625 12167 91125 39304 216 "
     ]
    }
   ],
   "source": [
    "l = [1,2,3,4,5,6,7,8,9,11,33,65,23,45,34,6]\n",
    "\n",
    "for i in range(len(l)):\n",
    "    print(l[i]**3, end = ' ')"
   ]
  },
  {
   "cell_type": "code",
   "execution_count": 91,
   "metadata": {},
   "outputs": [
    {
     "name": "stdout",
     "output_type": "stream",
     "text": [
      "[1, 8, 27, 64, 125, 216, 343, 512, 729, 1331, 35937, 274625, 12167, 91125, 39304, 262144]\n"
     ]
    }
   ],
   "source": [
    "l = [1,2,3,4,5,6,7,8,9,11,33,65,23,45,34,64]\n",
    "\n",
    "print(list(map(lambda n:n**3,l)))"
   ]
  },
  {
   "cell_type": "code",
   "execution_count": 92,
   "metadata": {},
   "outputs": [
    {
     "name": "stdout",
     "output_type": "stream",
     "text": [
      "320\n"
     ]
    }
   ],
   "source": [
    "l = [1,2,3,4,5,6,7,8,9,11,33,65,23,45,34,64]\n",
    "print(sum(l))"
   ]
  },
  {
   "cell_type": "code",
   "execution_count": 94,
   "metadata": {},
   "outputs": [
    {
     "name": "stdout",
     "output_type": "stream",
     "text": [
      "36\n"
     ]
    }
   ],
   "source": [
    "s = '12345678'\n",
    "\n",
    "c = 0\n",
    "#l = list(s)\n",
    "for i in range(len(s)):\n",
    "    c = c + int(s[i])\n",
    "    \n",
    "print(c)"
   ]
  },
  {
   "cell_type": "code",
   "execution_count": 97,
   "metadata": {},
   "outputs": [],
   "source": [
    "from functools import reduce"
   ]
  },
  {
   "cell_type": "code",
   "execution_count": 98,
   "metadata": {},
   "outputs": [],
   "source": [
    "import functools"
   ]
  },
  {
   "cell_type": "code",
   "execution_count": 99,
   "metadata": {},
   "outputs": [
    {
     "name": "stdout",
     "output_type": "stream",
     "text": [
      "15\n"
     ]
    }
   ],
   "source": [
    "l = [1,2,3,4,5]\n",
    "print(functools.reduce(lambda n, n1:n+n1,l))"
   ]
  },
  {
   "attachments": {},
   "cell_type": "markdown",
   "metadata": {},
   "source": [
    "## OOP"
   ]
  },
  {
   "cell_type": "code",
   "execution_count": 106,
   "metadata": {},
   "outputs": [
    {
     "name": "stdout",
     "output_type": "stream",
     "text": [
      "Ravet\n",
      "500\n",
      "Inside the method\n"
     ]
    }
   ],
   "source": [
    "class PCCOER:\n",
    "    address = \"Ravet\"\n",
    "    totalStudents = 500\n",
    "    \n",
    "    def createFoundation(self):\n",
    "        print(\"Inside the method\")\n",
    "        \n",
    "p = PCCOER()\n",
    "print(p.address)\n",
    "print(p.totalStudents)\n",
    "p.createFoundation()"
   ]
  },
  {
   "cell_type": "code",
   "execution_count": 140,
   "metadata": {},
   "outputs": [
    {
     "name": "stdout",
     "output_type": "stream",
     "text": [
      "TPO\n",
      "Ravet\n",
      "250\n",
      "TPO\n"
     ]
    }
   ],
   "source": [
    "class PCET:\n",
    "    tpo = \"TPO\"\n",
    "    \n",
    "class PCCOER():\n",
    "    addr = \"Ravet\"\n",
    "    totalStudents = 150\n",
    "    def createFoundation(self):\n",
    "        print(\"Inside the method\")\n",
    "        \n",
    "class PCCOE(PCET,PCCOER):\n",
    "    faculties = 250\n",
    "    \n",
    "        \n",
    "p = PCET\n",
    "r = PCCOER\n",
    "c = PCCOE\n",
    "\n",
    "print(c.tpo)\n",
    "print(c.addr)\n",
    "print(c.faculties)\n",
    "print(p.tpo)\n"
   ]
  },
  {
   "cell_type": "code",
   "execution_count": 142,
   "metadata": {},
   "outputs": [
    {
     "name": "stdout",
     "output_type": "stream",
     "text": [
      "30\n",
      "60\n"
     ]
    }
   ],
   "source": [
    "# Overloading\n",
    "def add(a,b,c=0):\n",
    "    return a+b+c\n",
    "\n",
    "print(add(10,20))\n",
    "print(add(10,20,30))"
   ]
  },
  {
   "attachments": {},
   "cell_type": "markdown",
   "metadata": {},
   "source": [
    "## Overriding"
   ]
  },
  {
   "cell_type": "code",
   "execution_count": 5,
   "metadata": {},
   "outputs": [
    {
     "name": "stdout",
     "output_type": "stream",
     "text": [
      "Swift\n",
      "Take it\n",
      "Bring back carefully\n"
     ]
    }
   ],
   "source": [
    "#Overridding\n",
    "\n",
    "class Parent:\n",
    "    vehicle = \"BMW\"\n",
    "    def getKeys(Yash):\n",
    "        print(\"Ride it\")\n",
    "        \n",
    "    def instruct(Yash):\n",
    "        print(\"Bring back carefully\")\n",
    "        \n",
    "class Child(Parent):\n",
    "    vehicle = \"Swift\"\n",
    "    def getKeys(yash):\n",
    "        print(\"Take it\")\n",
    "        \n",
    "o = Child()\n",
    "print(o.vehicle)\n",
    "o.getKeys()\n",
    "o.instruct()"
   ]
  },
  {
   "cell_type": "code",
   "execution_count": 8,
   "metadata": {},
   "outputs": [
    {
     "name": "stdout",
     "output_type": "stream",
     "text": [
      "We have BMW\n",
      "We have Audi\n"
     ]
    }
   ],
   "source": [
    "class Parent:\n",
    "    vehicle = \"BMW\"\n",
    "    def getKeys(pcet):\n",
    "        print(\"Ride it carefully\")\n",
    "        \n",
    "class Child(Parent):\n",
    "    def getVehicleName(pccoer):\n",
    "        print(f\"We have {pccoer.vehicle}\")\n",
    "        \n",
    "o = Child()\n",
    "o.getVehicleName()\n",
    "o.vehicle = \"Audi\"\n",
    "o.getVehicleName()"
   ]
  },
  {
   "attachments": {},
   "cell_type": "markdown",
   "metadata": {},
   "source": [
    "## Constructor"
   ]
  },
  {
   "cell_type": "code",
   "execution_count": 14,
   "metadata": {},
   "outputs": [
    {
     "name": "stdout",
     "output_type": "stream",
     "text": [
      "Default channel is 100\n",
      "100\n",
      "Channel is changed to 1204\n"
     ]
    }
   ],
   "source": [
    "class TV:\n",
    "    channel = ''\n",
    "    def __init__(self):\n",
    "        print('Default channel is 100')\n",
    "        self.channel = 100\n",
    "        \n",
    "    def changeChannel(self, num):\n",
    "        self.channel = num\n",
    "        print(f\"Channel is changed to {self.channel}\")\n",
    "        \n",
    "t = TV()\n",
    "print(t.channel)\n",
    "t.changeChannel(1204)\n",
    "    "
   ]
  },
  {
   "cell_type": "code",
   "execution_count": 26,
   "metadata": {},
   "outputs": [
    {
     "name": "stdout",
     "output_type": "stream",
     "text": [
      "Your Balance is : 1500000\n",
      "Amount transferred : 10000\n",
      "Remaining Balance : 1490000\n",
      " \n",
      "Your Balance is : 1490000\n",
      "Amount transferred : 1000\n",
      "Remaining Balance : 1489000\n"
     ]
    }
   ],
   "source": [
    "class Bank:\n",
    "    accNo = 1234567890\n",
    "    balance = 1500000\n",
    "    \n",
    "    def checkBalance(self):\n",
    "        print(f\"Your Balance is : {self.balance}\")\n",
    "        \n",
    "    def __updateBalance(self, amount):\n",
    "        self.balance -= amount\n",
    "        print(f\"Remaining Balance : {self.balance}\")\n",
    "        \n",
    "    def _transferMoney(self, amount):\n",
    "        print(f\"Amount transferred : {amount}\")\n",
    "        self.__updateBalance(amount)\n",
    "        \n",
    "class person(Bank):\n",
    "    name = ' '   \n",
    "    def myDetails(self):\n",
    "        self.checkBalance()\n",
    "        self._transferMoney(1000)      \n",
    "        #self.__updateBalance(1000)    \n",
    "        \n",
    "b = person()\n",
    "b.checkBalance()\n",
    "b._transferMoney(10000) \n",
    "print(b.name)\n",
    "b.myDetails()       \n",
    "\n",
    "# __ (double underscore) - Private class member\n",
    "# _ (single underscore) - Proctected class member\n",
    "\n"
   ]
  },
  {
   "attachments": {},
   "cell_type": "markdown",
   "metadata": {},
   "source": [
    "## Random Password Generator"
   ]
  },
  {
   "cell_type": "code",
   "execution_count": 109,
   "metadata": {},
   "outputs": [
    {
     "name": "stdout",
     "output_type": "stream",
     "text": [
      "x5(qkfR&\n"
     ]
    }
   ],
   "source": [
    " #Random password generator\n",
    " \n",
    "import random\n",
    "s = \"qwertyuioplkjhgfdsazxcvbnnmQWERTYUIOPLKJHGFDSAZXCVBNM1234567890!@#$%^&*()\"\n",
    "pass_len = int(input(\"Enter the length of password : \"))\n",
    "p = \"\".join(random.sample(s,pass_len))\n",
    "print(p)"
   ]
  },
  {
   "cell_type": "code",
   "execution_count": 115,
   "metadata": {},
   "outputs": [
    {
     "name": "stdout",
     "output_type": "stream",
     "text": [
      "2N0u!c%dJ5\n"
     ]
    }
   ],
   "source": [
    "import random\n",
    "import string\n",
    "\n",
    "pass_len = int(input(\"Enter the length of password : \"))\n",
    "sm = 'qwertyuioplkjhgfdsazxcvbnnm'\n",
    "cap = 'QWERTYUIOPLKJHGFDSAZXCVBNM'\n",
    "num = '1234567890'\n",
    "sp = '!@#$%^&*()'\n",
    "s = \"qwertyuioplkjhgfdsazxcvbnnmQWERTYUIOPLKJHGFDSAZXCVBNM1234567890!@#$%^&*()\"\n",
    "\n",
    "SM = \"\".join(random.sample(sm,1))\n",
    "Cap = \"\".join(random.sample(cap,1))\n",
    "Num = \"\".join(random.sample(num,1))\n",
    "SP = \"\".join(random.sample(sp,1))\n",
    "S = \"\".join(random.sample(s,(pass_len)-4))\n",
    "\n",
    "l = [SM,Cap,Num,SP,S]\n",
    "\n",
    "print(\"\".join(random.sample(l,5)))\n"
   ]
  },
  {
   "cell_type": "code",
   "execution_count": 133,
   "metadata": {},
   "outputs": [
    {
     "name": "stdout",
     "output_type": "stream",
     "text": [
      "6\n"
     ]
    }
   ],
   "source": [
    "s = '123456'\n",
    "print(\"\".join(random.sample(s,1)))"
   ]
  },
  {
   "attachments": {},
   "cell_type": "markdown",
   "metadata": {},
   "source": [
    "## STONE PAPER SCISSORS"
   ]
  },
  {
   "cell_type": "code",
   "execution_count": 135,
   "metadata": {},
   "outputs": [
    {
     "name": "stdout",
     "output_type": "stream",
     "text": [
      "Paper\n",
      "Scissors\n"
     ]
    }
   ],
   "source": [
    "l = ['Stone','Paper','Scissors']\n",
    "p1 = (\"\".join(random.sample(l,1))) \n",
    "p2 = (\"\".join(random.sample(l,1)))\n",
    "\n",
    "print(p1)\n",
    "print(p2)"
   ]
  },
  {
   "cell_type": "code",
   "execution_count": 138,
   "metadata": {},
   "outputs": [
    {
     "name": "stdout",
     "output_type": "stream",
     "text": [
      "stone\n",
      "scissors\n",
      "Player 1 wins\n"
     ]
    }
   ],
   "source": [
    "l = ['stone','paper','scissors']\n",
    "p = input(\"Enter your selection\")\n",
    "p1 = p.lower()\n",
    "print(p1)\n",
    "p2 = (\"\".join(random.sample(l,1))) \n",
    "print(p2)\n",
    "\n",
    "if(p1 == p2):\n",
    "    print(\"TIE\")\n",
    "    \n",
    "elif((p1 == 'stone' and p2 == 'scissors') or (p1 == 'scissor' and p2 == 'paper') or (p1 == 'paper' and p2 == 'stone')):\n",
    "    print(\"Player 1 wins\")\n",
    "    \n",
    "else:\n",
    "    print(\"Player 2 wins\")"
   ]
  },
  {
   "attachments": {},
   "cell_type": "markdown",
   "metadata": {},
   "source": [
    "## DAY 3"
   ]
  },
  {
   "cell_type": "code",
   "execution_count": 53,
   "metadata": {},
   "outputs": [],
   "source": [
    "# QRcode Generator\n",
    "\n",
    "from pyqrcode import QRCode\n",
    "#s = 'https://www.codechef.com/users/yash_yadwadkar'\n",
    "url = pyqrcode.create('https://www.codechef.com/users/yash_yadwadkar')\n",
    "url.png('xyz.png', scale = 8) "
   ]
  },
  {
   "cell_type": "code",
   "execution_count": 58,
   "metadata": {},
   "outputs": [
    {
     "name": "stdout",
     "output_type": "stream",
     "text": [
      "Collecting opencv-python\n",
      "  Downloading opencv_python-4.7.0.72-cp37-abi3-win_amd64.whl (38.2 MB)\n",
      "Requirement already satisfied: numpy>=1.19.3 in c:\\users\\yash\\anaconda3\\lib\\site-packages (from opencv-python) (1.21.5)\n",
      "Installing collected packages: opencv-python\n",
      "Successfully installed opencv-python-4.7.0.72\n",
      "Collecting opencv-python\n",
      "  Using cached opencv_python-4.7.0.72-cp37-abi3-win_amd64.whl (38.2 MB)\n",
      "Requirement already satisfied: numpy>=1.17.0 in c:\\users\\yash\\anaconda3\\lib\\site-packages (from opencv-python) (1.21.5)\n",
      "Installing collected packages: opencv-python\n",
      "Successfully installed opencv-python-4.7.0.72\n",
      "Note: you may need to restart the kernel to use updated packages.\n"
     ]
    }
   ],
   "source": [
    "pip install opencv-python "
   ]
  },
  {
   "cell_type": "code",
   "execution_count": 60,
   "metadata": {},
   "outputs": [
    {
     "name": "stdout",
     "output_type": "stream",
     "text": [
      "Note: you may need to restart the kernel to use updated packages.\n"
     ]
    },
    {
     "name": "stderr",
     "output_type": "stream",
     "text": [
      "ERROR: Could not find a version that satisfies the requirement tkinter (from versions: none)\n",
      "ERROR: No matching distribution found for tkinter\n"
     ]
    }
   ],
   "source": [
    "pip install tkinter"
   ]
  },
  {
   "cell_type": "code",
   "execution_count": 61,
   "metadata": {},
   "outputs": [
    {
     "name": "stdout",
     "output_type": "stream",
     "text": [
      "Collecting tk\n",
      "  Downloading tk-0.1.0-py3-none-any.whl (3.9 kB)\n",
      "Installing collected packages: tk\n",
      "Successfully installed tk-0.1.0\n",
      "Note: you may need to restart the kernel to use updated packages.\n"
     ]
    },
    {
     "name": "stderr",
     "output_type": "stream",
     "text": [
      "  WARNING: Retrying (Retry(total=4, connect=None, read=None, redirect=None, status=None)) after connection broken by 'ReadTimeoutError(\"HTTPSConnectionPool(host='files.pythonhosted.org', port=443): Read timed out. (read timeout=15)\")': /packages/1e/0b/029cbdb868bb555fed99bf6540fff072d500b3f895873709f25084e85e33/tk-0.1.0-py3-none-any.whl\n"
     ]
    }
   ],
   "source": [
    "pip install tk"
   ]
  },
  {
   "cell_type": "code",
   "execution_count": 64,
   "metadata": {},
   "outputs": [],
   "source": [
    "from tkinter import *\n",
    "\n",
    "window = Tk()\n",
    "\n",
    "e1  = Label(window, text='Yash')\n",
    "\n",
    "e1.grid(row = 0, column =  0)\n",
    "\n",
    "window.mainloop()"
   ]
  },
  {
   "cell_type": "code",
   "execution_count": 69,
   "metadata": {},
   "outputs": [],
   "source": [
    "from tkinter import *\n",
    "window = Tk()\n",
    "\n",
    "def convert():\n",
    "    gram = float(e2v.get())*1000\n",
    "    pound = float(e2v.get())*2.20462\n",
    "    ounce = float(e2v.get())*35.274\n",
    "    t1.delete(\"1.0\", END)\n",
    "    t1.insert(END, gram)\n",
    "    t2.delete(\"1.0\", END)\n",
    "    t2.insert(END, pound)\n",
    "    t3.delete(\"1.0\", END)\n",
    "    t3.insert(END, ounce)\n",
    "    \n",
    "    \n",
    "    \n",
    "e1 = Label(window, text=\"Input the weight: \")\n",
    "e1.grid(row = 0, column = 0)\n",
    "\n",
    "e2v = StringVar()\n",
    "e2 = Entry(window, textvariable = e2v)\n",
    "e3 = Label(window, text = \"Gram\")\n",
    "e4 = Label(window, text = \"Pound\")\n",
    "e5 = Label(window, text = \"Ounce\")\n",
    "\n",
    "t1 = Text(window, height = 5, width = 30)\n",
    "t2 = Text(window, height = 5, width = 30)\n",
    "t3 = Text(window, height = 5, width = 30)\n",
    "\n",
    "b1 = Button(window, text = \"Convert\", command = convert)\n",
    "\n",
    "e2.grid(row = 0, column = 1)\n",
    "e3.grid(row = 1, column = 0)\n",
    "e4.grid(row = 1, column = 1)\n",
    "e5.grid(row = 1, column = 2)\n",
    "\n",
    "t1.grid(row = 2, column = 0)\n",
    "t2.grid(row = 2, column = 1)\n",
    "t3.grid(row = 2, column = 2)\n",
    "b1.grid(row = 0, column = 2)\n",
    "\n",
    "window.mainloop()"
   ]
  },
  {
   "cell_type": "code",
   "execution_count": 85,
   "metadata": {},
   "outputs": [],
   "source": [
    "# from tkinter import *\n",
    "window = Tk()\n",
    "def convert():\n",
    "    degree=(float(e2v.get())-32)*(5/9)\n",
    "\n",
    "    t1.delete(\"1.0\",END)\n",
    "    t1.insert(END,degree)\n",
    "def convert1():\n",
    "    a=float(e4v.get())/(float(e3v.get())**2)\n",
    "    \n",
    "    t2.delete(\"1.0\",END)\n",
    "    t2.insert(END,a)\n",
    "    \n",
    "\n",
    "\n",
    "e1 = Label(window, text=\"input farenheit\")\n",
    "e2v = StringVar()\n",
    "e2 = Entry(window,textvariable=e2v)\n",
    "fo = Label(window,text=' degree is:')\n",
    "e3v=StringVar()\n",
    "e3 = Label(window,text='input height')\n",
    "h = Entry(window,textvariable=e3v)\n",
    "e4v=StringVar()\n",
    "e4 = Label(window,text='input weight')\n",
    "w = Entry(window,textvariable=e4v)\n",
    "ho = Label(window,text='bmi')\n",
    "\n",
    "b1 = Button(window,text=\"Convert far to cel\",command=convert)\n",
    "b2 = Button(window,text=\"Convert height weight to bmi \",command=convert1)\n",
    "e1.grid(row=0,column=1)\n",
    "e2.grid(row=1,column=1)\n",
    "#fo.grid(row=0,column=2)\n",
    "e3.grid(row=0,column=2)\n",
    "h.grid(row=1,column=2)\n",
    "e4.grid(row=0,column=3)\n",
    "w.grid(row=1,column=3)\n",
    "t1 = Text(window,height=5,width=30)\n",
    "t2 = Text(window,height=5,width=30)\n",
    "fo.grid(row=2,column=1)\n",
    "t1.grid(row=3,column=1)\n",
    "b1.grid(row=4,column=1)\n",
    "ho.grid(row=2,column=2)\n",
    "t2.grid(row=3,column=2)\n",
    "b2.grid(row=4,column=2)\n",
    "\n",
    "\n",
    "window.mainloop()"
   ]
  },
  {
   "cell_type": "code",
   "execution_count": 83,
   "metadata": {},
   "outputs": [],
   "source": [
    "import time\n",
    "from tkinter import Label, Tk\n",
    "app_window = Tk()\n",
    "app_window.title(\"Digital Clock\")\n",
    "app_window.geometry(\"420x150\")\n",
    "app_window.resizable(1, 1)\n",
    "text_font = (\"Boulder\", 68, 'bold')\n",
    "background = \"#000000\"\n",
    "foreground = \"#ede9e9\"\n",
    "border_width = 25\n",
    "label = Label(app_window, font=text_font, bg=background, fg=foreground, bd=border_width)\n",
    "label.grid(row=0, column=1)\n",
    "def digital_clock():\n",
    "    time_live = time.strftime(\"%H:%M:%S\")\n",
    "    label.config(text=time_live)\n",
    "    label.after(200, digital_clock)\n",
    "digital_clock()\n",
    "app_window.mainloop()"
   ]
  },
  {
   "attachments": {},
   "cell_type": "markdown",
   "metadata": {},
   "source": [
    "## DAY 4"
   ]
  },
  {
   "attachments": {},
   "cell_type": "markdown",
   "metadata": {},
   "source": [
    "## Flask"
   ]
  },
  {
   "cell_type": "code",
   "execution_count": 1,
   "metadata": {},
   "outputs": [
    {
     "name": "stdout",
     "output_type": "stream",
     "text": [
      "Requirement already satisfied: flask in c:\\users\\yash\\anaconda3\\lib\\site-packages (1.1.2)\n",
      "Requirement already satisfied: Jinja2>=2.10.1 in c:\\users\\yash\\anaconda3\\lib\\site-packages (from flask) (2.11.3)\n",
      "Requirement already satisfied: Werkzeug>=0.15 in c:\\users\\yash\\anaconda3\\lib\\site-packages (from flask) (2.0.3)\n",
      "Requirement already satisfied: itsdangerous>=0.24 in c:\\users\\yash\\anaconda3\\lib\\site-packages (from flask) (2.0.1)\n",
      "Requirement already satisfied: click>=5.1 in c:\\users\\yash\\anaconda3\\lib\\site-packages (from flask) (8.0.4)\n",
      "Requirement already satisfied: colorama in c:\\users\\yash\\anaconda3\\lib\\site-packages (from click>=5.1->flask) (0.4.4)\n",
      "Requirement already satisfied: MarkupSafe>=0.23 in c:\\users\\yash\\anaconda3\\lib\\site-packages (from Jinja2>=2.10.1->flask) (2.0.1)\n",
      "Note: you may need to restart the kernel to use updated packages.\n"
     ]
    }
   ],
   "source": [
    "pip install flask"
   ]
  },
  {
   "cell_type": "code",
   "execution_count": 7,
   "metadata": {},
   "outputs": [
    {
     "name": "stdout",
     "output_type": "stream",
     "text": [
      " * Serving Flask app \"__main__\" (lazy loading)\n",
      " * Environment: production\n",
      "\u001b[31m   WARNING: This is a development server. Do not use it in a production deployment.\u001b[0m\n",
      "\u001b[2m   Use a production WSGI server instead.\u001b[0m\n",
      " * Debug mode: off\n"
     ]
    },
    {
     "name": "stderr",
     "output_type": "stream",
     "text": [
      " * Running on http://127.0.0.1:5000/ (Press CTRL+C to quit)\n",
      "127.0.0.1 - - [02/Mar/2023 15:21:59] \"GET / HTTP/1.1\" 200 -\n",
      "127.0.0.1 - - [02/Mar/2023 15:21:59] \"GET / HTTP/1.1\" 200 -\n"
     ]
    }
   ],
   "source": [
    "from flask import Flask\n",
    "\n",
    "app = Flask(__name__)\n",
    "\n",
    "@app.route('/')\n",
    "\n",
    "def hello_world():\n",
    "    return 'Hello from Yash'\n",
    "\n",
    "if __name__ == '__main__':\n",
    "    app.run()\n",
    "    "
   ]
  },
  {
   "cell_type": "code",
   "execution_count": 13,
   "metadata": {},
   "outputs": [
    {
     "name": "stdout",
     "output_type": "stream",
     "text": [
      " * Serving Flask app \"__main__\" (lazy loading)\n",
      " * Environment: production\n",
      "\u001b[31m   WARNING: This is a development server. Do not use it in a production deployment.\u001b[0m\n",
      "\u001b[2m   Use a production WSGI server instead.\u001b[0m\n",
      " * Debug mode: off\n"
     ]
    },
    {
     "name": "stderr",
     "output_type": "stream",
     "text": [
      " * Running on http://127.0.0.1:5000/ (Press CTRL+C to quit)\n",
      "127.0.0.1 - - [02/Mar/2023 15:38:58] \"GET / HTTP/1.1\" 200 -\n",
      "127.0.0.1 - - [02/Mar/2023 15:38:58] \"GET / HTTP/1.1\" 200 -\n",
      "127.0.0.1 - - [02/Mar/2023 15:39:06] \"GET /rev/12.2 HTTP/1.1\" 200 -\n",
      "127.0.0.1 - - [02/Mar/2023 15:39:06] \"GET /rev/12.2 HTTP/1.1\" 200 -\n"
     ]
    }
   ],
   "source": [
    "from flask import Flask\n",
    "\n",
    "app = Flask(__name__)\n",
    "\n",
    "@app.route('/')\n",
    "\n",
    "def hello_world():\n",
    "    return 'Hello from Yash'\n",
    "\n",
    "@app.route('/bmi/<float:h>/<int:w>')\n",
    "def getBMI(h,w):\n",
    "    bmi = w/(h**2)\n",
    "    return f\"Your BMI is {bmi}\"\n",
    "\n",
    "@app.route('/rev/<float:revNo>')\n",
    "def Revision(revNo):\n",
    "    return f\"Revision number is {revNo}\"\n",
    "\n",
    "if __name__ == '__main__':\n",
    "    app.run()\n",
    "    "
   ]
  },
  {
   "cell_type": "code",
   "execution_count": null,
   "metadata": {},
   "outputs": [],
   "source": [
    "from flask import Flask, render_template\n",
    "app = Flask(__name__)\n",
    "\n",
    "@app.route('/')\n",
    "def index():\n",
    "    return render_template('index.htmml')\n",
    "\n",
    "if __name__ == '__main__':\n",
    "    app.run()"
   ]
  },
  {
   "cell_type": "code",
   "execution_count": null,
   "metadata": {},
   "outputs": [],
   "source": []
  },
  {
   "cell_type": "code",
   "execution_count": null,
   "metadata": {},
   "outputs": [],
   "source": []
  },
  {
   "cell_type": "code",
   "execution_count": null,
   "metadata": {},
   "outputs": [],
   "source": []
  }
 ],
 "metadata": {
  "kernelspec": {
   "display_name": "base",
   "language": "python",
   "name": "python3"
  },
  "language_info": {
   "codemirror_mode": {
    "name": "ipython",
    "version": 3
   },
   "file_extension": ".py",
   "mimetype": "text/x-python",
   "name": "python",
   "nbconvert_exporter": "python",
   "pygments_lexer": "ipython3",
   "version": "3.9.12"
  },
  "orig_nbformat": 4,
  "vscode": {
   "interpreter": {
    "hash": "b13cae039e46398518c78f273f664ab59a0396b5c4cd01c50b884350ed5f7e8a"
   }
  }
 },
 "nbformat": 4,
 "nbformat_minor": 2
}
